{
  "cells": [
    {
      "cell_type": "markdown",
      "metadata": {
        "id": "view-in-github",
        "colab_type": "text"
      },
      "source": [
        "<a href=\"https://colab.research.google.com/github/Raghavgarg12/Web-Scraping/blob/main/IMDB_Scraping.ipynb\" target=\"_parent\"><img src=\"https://colab.research.google.com/assets/colab-badge.svg\" alt=\"Open In Colab\"/></a>"
      ]
    },
    {
      "cell_type": "code",
      "execution_count": null,
      "metadata": {
        "colab": {
          "base_uri": "https://localhost:8080/"
        },
        "id": "f-FUoFav5DO1",
        "outputId": "40cbb9f9-ddcf-4550-8117-2d38fc6c7b91"
      },
      "outputs": [
        {
          "name": "stdout",
          "output_type": "stream",
          "text": [
            "Collecting bs4\n",
            "  Downloading bs4-0.0.1.tar.gz (1.1 kB)\n",
            "  Preparing metadata (setup.py) ... \u001b[?25l\u001b[?25hdone\n",
            "Requirement already satisfied: beautifulsoup4 in /usr/local/lib/python3.10/dist-packages (from bs4) (4.11.2)\n",
            "Requirement already satisfied: soupsieve>1.2 in /usr/local/lib/python3.10/dist-packages (from beautifulsoup4->bs4) (2.5)\n",
            "Building wheels for collected packages: bs4\n",
            "  Building wheel for bs4 (setup.py) ... \u001b[?25l\u001b[?25hdone\n",
            "  Created wheel for bs4: filename=bs4-0.0.1-py3-none-any.whl size=1256 sha256=0657561d80a1ff9141d3056339884fcbcf622f7327f7db04bd851b4802def5db\n",
            "  Stored in directory: /root/.cache/pip/wheels/25/42/45/b773edc52acb16cd2db4cf1a0b47117e2f69bb4eb300ed0e70\n",
            "Successfully built bs4\n",
            "Installing collected packages: bs4\n",
            "Successfully installed bs4-0.0.1\n"
          ]
        }
      ],
      "source": [
        "import requests\n",
        "!pip install bs4\n",
        "from bs4 import BeautifulSoup\n",
        "import pandas as pd"
      ]
    },
    {
      "cell_type": "code",
      "execution_count": null,
      "metadata": {
        "id": "brljLsZ8qfTu"
      },
      "outputs": [],
      "source": [
        "df2=pd.DataFrame(columns=['Movie name','IMDB Rating','Description','Votes','Director','Stars','Metascore','Movie Genre','Total Duration'])\n",
        "def get_data1():\n",
        "  i=1\n",
        "  while(len(df2['Movie name'])<1000):\n",
        "    url=\"https://www.imdb.com/search/title/?release_date=2020&sort=num_votes,desc&page=\"+str(i)\n",
        "    r=requests.get(url);\n",
        "    response=BeautifulSoup(r.content,'html.parser')\n",
        "    for d in response.find_all('div',attrs={'class':\"lister-item mode-advanced\"}):\n",
        "      all=[]\n",
        "      heading=d.find('h3',attrs={'class':\"lister-item-header\"})\n",
        "      movie=heading.find('a')\n",
        "      if movie is not None:\n",
        "        all.append(movie.text)\n",
        "      else:\n",
        "        all.append('NaN')\n",
        "      heading=d.find('div',attrs={'class':\"ratings-bar\"})\n",
        "      rating=heading.find('strong')\n",
        "      if rating is not None:\n",
        "        all.append(rating.text)\n",
        "      else:\n",
        "        all.append('NaN')\n",
        "      heading=d.find_all('p',attrs={'class':\"text-muted\"})\n",
        "      description=heading[1]\n",
        "      if description is not None:\n",
        "        all.append(description.text)\n",
        "      else:\n",
        "        all.append('NaN')\n",
        "      heading=d.find('p',attrs={'class':\"sort-num_votes-visible\"})\n",
        "      votes=heading.find('span',attrs={'name':'nv'})\n",
        "      if votes is not None:\n",
        "        all.append(votes.text)\n",
        "      else:\n",
        "        all.append('NaN')\n",
        "      heading=d.find('p',attrs={'class':''}).text.strip()\n",
        "      director_start = heading.find(\"Director:\")\n",
        "      if director_start != -1:\n",
        "        director_info = heading[director_start + len(\"Director:\"):].strip()\n",
        "        director_name = director_info.split(\"|\")[0].strip()\n",
        "        all.append(director_name)\n",
        "      else:\n",
        "        all.append(\"NaN\")\n",
        "      stars_start = heading.find(\"Stars:\")\n",
        "      if stars_start != -1:\n",
        "        stars_info = heading[stars_start + len(\"Stars:\"):].strip()\n",
        "        stars = [star.strip() for star in stars_info.split(\",\")]\n",
        "        all.append(stars)\n",
        "      else:\n",
        "        all.append('NaN')\n",
        "      #heading=d.find('div',attrs={'class':\"inline-block ratings-metascore\"})\n",
        "      metascore=d.find('span',attrs={'class':\"metascore\"})\n",
        "      if metascore is not None:\n",
        "        all.append(metascore.text)\n",
        "      else:\n",
        "        all.append('NaN')\n",
        "      heading=d.find('span',attrs={'class':\"genre\"})\n",
        "      if heading is not None:\n",
        "        all.append(heading.text.strip())\n",
        "      else:\n",
        "        all.append('NaN')\n",
        "      runtime=d.find('span',attrs={'class':\"runtime\"})\n",
        "      if runtime is not None:\n",
        "        all.append(runtime.text)\n",
        "      else:\n",
        "        all.append('NaN')\n",
        "      #print(heading)\n",
        "      df2.loc[len(df2)] = all\n",
        "    i+=1\n",
        "  return df2"
      ]
    },
    {
      "cell_type": "code",
      "execution_count": null,
      "metadata": {
        "id": "DOIDIEBKsnyc"
      },
      "outputs": [],
      "source": [
        "get_data1().to_csv('IMDB.csv')"
      ]
    }
  ],
  "metadata": {
    "colab": {
      "provenance": [],
      "include_colab_link": true
    },
    "kernelspec": {
      "display_name": "Python 3",
      "name": "python3"
    },
    "language_info": {
      "name": "python"
    }
  },
  "nbformat": 4,
  "nbformat_minor": 0
}